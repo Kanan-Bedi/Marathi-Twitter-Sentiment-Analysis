{
  "nbformat": 4,
  "nbformat_minor": 0,
  "metadata": {
    "colab": {
      "name": "Dataset Preprocessing and Traditional ML Methods.ipynb",
      "provenance": [],
      "collapsed_sections": [],
      "authorship_tag": "ABX9TyPEFPDL4CvtchYVANAkU0Lu",
      "include_colab_link": true
    },
    "kernelspec": {
      "name": "python3",
      "display_name": "Python 3"
    },
    "language_info": {
      "name": "python"
    }
  },
  "cells": [
    {
      "cell_type": "markdown",
      "metadata": {
        "id": "view-in-github",
        "colab_type": "text"
      },
      "source": [
        "<a href=\"https://colab.research.google.com/github/Daishinkan002/Sentiment-Analysis-of-Marathi-Tweets/blob/main/Dataset_Preprocessing_and_Traditional_ML_Methods.ipynb\" target=\"_parent\"><img src=\"https://colab.research.google.com/assets/colab-badge.svg\" alt=\"Open In Colab\"/></a>"
      ]
    },
    {
      "cell_type": "markdown",
      "source": [
        "# Importing Libraries"
      ],
      "metadata": {
        "id": "tC36tAQgwDZJ"
      }
    },
    {
      "cell_type": "code",
      "execution_count": null,
      "metadata": {
        "colab": {
          "base_uri": "https://localhost:8080/"
        },
        "id": "zXQ5K01ps3fm",
        "outputId": "71629f67-0a80-4c9d-a15b-2e0eeafe5ded"
      },
      "outputs": [
        {
          "output_type": "stream",
          "name": "stdout",
          "text": [
            "Requirement already satisfied: tqdm in /usr/local/lib/python3.7/dist-packages (4.63.0)\n",
            "Requirement already satisfied: pandas in /usr/local/lib/python3.7/dist-packages (1.3.5)\n",
            "Requirement already satisfied: numpy in /usr/local/lib/python3.7/dist-packages (1.21.5)\n",
            "Requirement already satisfied: seaborn in /usr/local/lib/python3.7/dist-packages (0.11.2)\n",
            "Requirement already satisfied: matplotlib in /usr/local/lib/python3.7/dist-packages (3.2.2)\n",
            "Requirement already satisfied: scikit-learn in /usr/local/lib/python3.7/dist-packages (1.0.2)\n",
            "Requirement already satisfied: nltk in /usr/local/lib/python3.7/dist-packages (3.2.5)\n",
            "Requirement already satisfied: python-dateutil>=2.7.3 in /usr/local/lib/python3.7/dist-packages (from pandas) (2.8.2)\n",
            "Requirement already satisfied: pytz>=2017.3 in /usr/local/lib/python3.7/dist-packages (from pandas) (2018.9)\n",
            "Requirement already satisfied: six>=1.5 in /usr/local/lib/python3.7/dist-packages (from python-dateutil>=2.7.3->pandas) (1.15.0)\n",
            "Requirement already satisfied: scipy>=1.0 in /usr/local/lib/python3.7/dist-packages (from seaborn) (1.4.1)\n",
            "Requirement already satisfied: cycler>=0.10 in /usr/local/lib/python3.7/dist-packages (from matplotlib) (0.11.0)\n",
            "Requirement already satisfied: pyparsing!=2.0.4,!=2.1.2,!=2.1.6,>=2.0.1 in /usr/local/lib/python3.7/dist-packages (from matplotlib) (3.0.7)\n",
            "Requirement already satisfied: kiwisolver>=1.0.1 in /usr/local/lib/python3.7/dist-packages (from matplotlib) (1.4.0)\n",
            "Requirement already satisfied: typing-extensions in /usr/local/lib/python3.7/dist-packages (from kiwisolver>=1.0.1->matplotlib) (3.10.0.2)\n",
            "Requirement already satisfied: joblib>=0.11 in /usr/local/lib/python3.7/dist-packages (from scikit-learn) (1.1.0)\n",
            "Requirement already satisfied: threadpoolctl>=2.0.0 in /usr/local/lib/python3.7/dist-packages (from scikit-learn) (3.1.0)\n"
          ]
        }
      ],
      "source": [
        "!python -m pip install tqdm pandas numpy seaborn matplotlib scikit-learn nltk"
      ]
    },
    {
      "cell_type": "code",
      "source": [
        "import os\n",
        "from tqdm import tqdm\n",
        "import pandas as pd\n",
        "import numpy as np\n",
        "import pickle\n",
        "import string\n",
        "from multiprocessing import Pool\n",
        "import re\n",
        "import seaborn as sns\n",
        "from pylab import rcParams\n",
        "import matplotlib.pyplot as plt\n",
        "from matplotlib import rc\n",
        "from sklearn.model_selection import train_test_split\n",
        "from sklearn.metrics import confusion_matrix, classification_report\n",
        "\n",
        "%matplotlib inline\n",
        "%config InlineBackend.figure_format='retina'\n",
        "\n",
        "sns.set(style='whitegrid', palette='muted', font_scale=1.2)\n",
        "\n",
        "HAPPY_COLORS_PALETTE = [\"#01BEFE\", \"#FFDD00\", \"#FF7D00\", \"#FF006D\", \"#ADFF02\", \"#8F00FF\"]\n",
        "\n",
        "sns.set_palette(sns.color_palette(HAPPY_COLORS_PALETTE))\n",
        "\n",
        "rcParams['figure.figsize'] = 12, 8\n",
        "\n",
        "RANDOM_SEED = 42\n",
        "np.random.seed(RANDOM_SEED)"
      ],
      "metadata": {
        "id": "bTPP5tCCs4Xm"
      },
      "execution_count": null,
      "outputs": []
    },
    {
      "cell_type": "markdown",
      "source": [
        "# Data Preprocessing and analyzing"
      ],
      "metadata": {
        "id": "Xf95Kh0dwOuh"
      }
    },
    {
      "cell_type": "code",
      "source": [
        "df_train=pd.read_csv(\"Dataset/tweets-train.csv\",encoding=\"utf-8\")\n",
        "df_test=pd.read_csv(\"Dataset/tweets-test.csv\",encoding=\"utf-8\")\n",
        "df_valid=pd.read_csv(\"Dataset/tweets-valid.csv\",encoding=\"utf-8\")"
      ],
      "metadata": {
        "id": "GPEkWGXMs-1T"
      },
      "execution_count": null,
      "outputs": []
    },
    {
      "cell_type": "code",
      "source": [
        "df_train.head()"
      ],
      "metadata": {
        "id": "2lHFFD1Ptm6h"
      },
      "execution_count": null,
      "outputs": []
    },
    {
      "cell_type": "code",
      "source": [
        "df_train[\"label\"].value_counts()"
      ],
      "metadata": {
        "id": "5xFwB5HItxzw"
      },
      "execution_count": null,
      "outputs": []
    },
    {
      "cell_type": "code",
      "source": [
        "df_test[\"label\"].value_counts()"
      ],
      "metadata": {
        "id": "uNFpF32Yt0lO"
      },
      "execution_count": null,
      "outputs": []
    },
    {
      "cell_type": "code",
      "source": [
        "df_valid[\"label\"].value_counts()"
      ],
      "metadata": {
        "id": "21LcsRdYt8dF"
      },
      "execution_count": null,
      "outputs": []
    },
    {
      "cell_type": "code",
      "source": [
        "# extract stop and rare words\n",
        "import string\n",
        "import re\n",
        "import operator\n",
        "def extract_rare_stop(df):\n",
        "  stop_words=[]\n",
        "  rare_words=[]\n",
        "  token_count = {}\n",
        "  nc=0\n",
        "  for line in df['tweet']:\n",
        "    line = line.strip()\n",
        "    line = re.split(r'\\s+|[!$%&()*+, -./:;<=>?\\^_`{|}~]\\s*', line)\n",
        "    line = [token.strip() for token in line if token != '' and token != ' ' and token != '\\n']\n",
        "    if len(line) > 1:\n",
        "      for i in range(len(line)):\n",
        "        if line[i].lower() in token_count:\n",
        "          token_count[line[i].lower()] += 1\n",
        "        else:\n",
        "          token_count[line[i].lower()] = 1\n",
        "      nc=nc+1\n",
        "\n",
        "  token_count = dict(sorted(token_count.items(), key=operator.itemgetter(1)))\n",
        "  for key, value in token_count.items():\n",
        "    if value >= 100:\n",
        "      stop_words.append(key.lower())\n",
        "    elif value <2:\n",
        "      rare_words.append(key.lower())\n",
        "  return rare_words,stop_words"
      ],
      "metadata": {
        "id": "hLjBRHwS4uJC"
      },
      "execution_count": null,
      "outputs": []
    },
    {
      "cell_type": "code",
      "source": [
        "rare_words, stop_words =  extract_rare_stop(df_train)"
      ],
      "metadata": {
        "id": "CRne_sJm5sys"
      },
      "execution_count": null,
      "outputs": []
    },
    {
      "cell_type": "code",
      "source": [
        "print(len(rare_words),len(stop_words))"
      ],
      "metadata": {
        "id": "N5v0CFg355tV"
      },
      "execution_count": null,
      "outputs": []
    },
    {
      "cell_type": "code",
      "source": [
        "rare_words[:10]"
      ],
      "metadata": {
        "id": "E5Uevx6X6AdG"
      },
      "execution_count": null,
      "outputs": []
    },
    {
      "cell_type": "code",
      "source": [
        "stop_words[:10]"
      ],
      "metadata": {
        "id": "d7LJZsqJ6bxl"
      },
      "execution_count": null,
      "outputs": []
    },
    {
      "cell_type": "code",
      "source": [
        "# stop words rare words\n",
        "\n",
        "## removal of stopwords & rarewords changes the meaning of it so to maintain the context we didn't do it"
      ],
      "metadata": {
        "id": "jn5_3Vji7EZ5"
      },
      "execution_count": null,
      "outputs": []
    },
    {
      "cell_type": "code",
      "source": [
        "# strip -> punctuations  -> @ mentions delete -> url delete ->  remove # from #-tokens -> stop words delete (no delete )  -> rare words no delete)\n",
        "def preprocess(line):\n",
        "\n",
        "  line = line.strip()\n",
        "  line = re.sub(r'\\S*\\.com\\S*',\" \",line)\n",
        "  line = re.sub(r'\\S*\\.in\\S*',\" \",line)\n",
        "  line = re.sub(r'\\S*\\.net\\S*',\" \",line)\n",
        "  line = re.sub(r'\\S*\\.me\\S*',\" \",line)\n",
        "  line = re.sub(r'\\s+:\\s+',\" \",line)\n",
        "  line = re.sub(r'\\s+-\\s+',\" \",line)\n",
        "  \n",
        "  \n",
        "  line = re.sub(r'/https?\\/\\/(.*\\.(in))\\//',\" \",line)\n",
        "  line = re.split(r'\\s+|[!$%&()*+./;<=>?\\^`{|}~\\'\\\"]\\s*', line)\n",
        "  line = [token.strip() for token in line if token != '' and token != ' ' and token != '\\n']\n",
        "  \n",
        "  if len(line) > 1:\n",
        "    tokens = []\n",
        "    for i in range(len(line)):\n",
        "      if line[i][0] == '#':\n",
        "        tokens.append(line[i][1:])\n",
        "      elif line[i][0] == '@' or line[i][0] in string.punctuation :\n",
        "        continue\n",
        "      else:\n",
        "        tokens.append(line[i])\n",
        "    return tokens\n"
      ],
      "metadata": {
        "id": "aO-ORuq1wj3a"
      },
      "execution_count": null,
      "outputs": []
    },
    {
      "cell_type": "code",
      "source": [
        "preprocess(\"\"\"  󾭴...अन्यथा \"\"सुपारीवाले' म्हणून पाहिले जाईल : खा. राजू शेट्टी\n",
        "21 मे 2016 - सकाळ \n",
        "पुणे - '''शेतकऱ्यांची चळवळ ही... fb.me/1cIUGmX6V\n",
        "\"\"\")"
      ],
      "metadata": {
        "id": "3gJULym51Eye"
      },
      "execution_count": null,
      "outputs": []
    },
    {
      "cell_type": "code",
      "source": [
        "with Pool(5) as pool:\n",
        " extracted = pool.map(preprocess, tqdm(df_train['tweet']))\n",
        " print(extracted[:5])"
      ],
      "metadata": {
        "id": "xYdraLfc6uNG"
      },
      "execution_count": null,
      "outputs": []
    },
    {
      "cell_type": "code",
      "source": [
        "df_train[\"tuned_tweet\"] = extracted"
      ],
      "metadata": {
        "id": "NCsWEP5f7nMF"
      },
      "execution_count": null,
      "outputs": []
    },
    {
      "cell_type": "code",
      "source": [
        "with Pool(5) as pool:\n",
        " extracted = pool.map(preprocess, tqdm(df_test['tweet']))\n",
        " print(extracted[:5])"
      ],
      "metadata": {
        "id": "UmtvqDN67bQT"
      },
      "execution_count": null,
      "outputs": []
    },
    {
      "cell_type": "code",
      "source": [
        "df_test[\"tuned_tweet\"] = extracted"
      ],
      "metadata": {
        "id": "oOND9k5u7dEQ"
      },
      "execution_count": null,
      "outputs": []
    },
    {
      "cell_type": "code",
      "source": [
        "with Pool(5) as pool:\n",
        " extracted = pool.map(preprocess, tqdm(df_valid['tweet']))\n",
        " print(extracted[:5])"
      ],
      "metadata": {
        "id": "uQZ0vHACCUNQ"
      },
      "execution_count": null,
      "outputs": []
    },
    {
      "cell_type": "code",
      "source": [
        "df_valid[\"tuned_tweet\"] = extracted"
      ],
      "metadata": {
        "id": "V7Et1Jx6CVhA"
      },
      "execution_count": null,
      "outputs": []
    },
    {
      "cell_type": "code",
      "source": [
        "df_train.dropna(inplace=True)\n",
        "df_test.dropna(inplace=True)\n",
        "df_valid.dropna(inplace=True)"
      ],
      "metadata": {
        "id": "iKfY_VkeC7hs"
      },
      "execution_count": null,
      "outputs": []
    },
    {
      "cell_type": "code",
      "source": [
        "df_train['tuned_tweet'] = df_train['tuned_tweet'].apply(lambda x: \" \".join(x))\n",
        "df_test['tuned_tweet'] = df_test['tuned_tweet'].apply(lambda x: \" \".join(x))\n",
        "df_valid['tuned_tweet'] = df_valid['tuned_tweet'].apply(lambda x: \" \".join(x))"
      ],
      "metadata": {
        "id": "2ME1cbelCoFn"
      },
      "execution_count": null,
      "outputs": []
    },
    {
      "cell_type": "code",
      "source": [
        "print(len(df_train),len(df_test),len(df_valid))"
      ],
      "metadata": {
        "id": "pjfW5wYZDtjw"
      },
      "execution_count": null,
      "outputs": []
    },
    {
      "cell_type": "code",
      "source": [
        "print(df_train[\"label\"].value_counts(),df_test[\"label\"].value_counts(),df_valid[\"label\"].value_counts())"
      ],
      "metadata": {
        "id": "g2W78juoEEZi"
      },
      "execution_count": null,
      "outputs": []
    },
    {
      "cell_type": "markdown",
      "source": [
        "# Dataset Loading"
      ],
      "metadata": {
        "id": "gaDc0mN-QJA_"
      }
    },
    {
      "cell_type": "code",
      "source": [
        "from google.colab import drive\n",
        "drive.mount('/content/gdrive')"
      ],
      "metadata": {
        "id": "nzLM9i3cQYqk"
      },
      "execution_count": null,
      "outputs": []
    },
    {
      "cell_type": "code",
      "source": [
        "df_train = pd.read_pickle('/content/gdrive/MyDrive/Major_Project/Marathi-Sentiment/Refined_Dataset/marathi_train.pkl')\n",
        "df_test = pd.read_pickle('/content/gdrive/MyDrive/Major_Project/Marathi-Sentiment/Refined_Dataset/marathi_test.pkl')\n",
        "df_valid = pd.read_pickle('/content/gdrive/MyDrive/Major_Project/Marathi-Sentiment/Refined_Dataset/marathi_valid.pkl')"
      ],
      "metadata": {
        "id": "zUSPe5MAQb6N"
      },
      "execution_count": null,
      "outputs": []
    },
    {
      "cell_type": "markdown",
      "source": [
        "# Naive Bayes - ML"
      ],
      "metadata": {
        "id": "kBoLa1CXvqP4"
      }
    },
    {
      "cell_type": "code",
      "source": [
        "from sklearn.feature_extraction.text import TfidfVectorizer\n",
        "from sklearn.naive_bayes import MultinomialNB\n",
        "from sklearn.pipeline import make_pipeline\n",
        "\n",
        "model = make_pipeline(TfidfVectorizer(), MultinomialNB())\n",
        "\n",
        "\n",
        "model.fit(df_train.tuned_tweet, df_train.label)\n",
        "labels = model.predict(df_test.tuned_tweet)"
      ],
      "metadata": {
        "id": "4phKZmbPt-6N"
      },
      "execution_count": null,
      "outputs": []
    },
    {
      "cell_type": "code",
      "source": [
        "from sklearn.metrics import confusion_matrix\n",
        "mat = confusion_matrix(df_test.label, labels)\n",
        "sns.heatmap(mat.T, square=True, annot=True, fmt='d', cbar=False,\n",
        "            xticklabels=[-1,0,1], yticklabels=[-1,0,1])\n",
        "plt.xlabel('true label')\n",
        "plt.ylabel('predicted label')"
      ],
      "metadata": {
        "colab": {
          "base_uri": "https://localhost:8080/",
          "height": 523
        },
        "id": "9a22Tn6VujHa",
        "outputId": "310f17ee-32a3-41ec-9ecc-a24bd6b23e67"
      },
      "execution_count": null,
      "outputs": [
        {
          "output_type": "execute_result",
          "data": {
            "text/plain": [
              "Text(198.86, 0.5, 'predicted label')"
            ]
          },
          "metadata": {},
          "execution_count": 6
        },
        {
          "output_type": "display_data",
          "data": {
            "text/plain": [
              "<Figure size 864x576 with 1 Axes>"
            ],
            "image/png": "[encoded data removed]"
          },
          "metadata": {
            "image/png": {
              "width": 489,
              "height": 489
            }
          }
        }
      ]
    },
    {
      "cell_type": "code",
      "source": [
        "from sklearn.metrics import accuracy_score\n",
        "accuracy_score(df_test.label, labels)"
      ],
      "metadata": {
        "colab": {
          "base_uri": "https://localhost:8080/"
        },
        "id": "3P1fu3Vdup8C",
        "outputId": "6e1296a0-aead-4410-a9f2-ba6007d2c253"
      },
      "execution_count": null,
      "outputs": [
        {
          "output_type": "execute_result",
          "data": {
            "text/plain": [
              "0.7208888888888889"
            ]
          },
          "metadata": {},
          "execution_count": 7
        }
      ]
    },
    {
      "cell_type": "code",
      "source": [
        "y_true = df_test.label\n",
        "y_pred = labels\n",
        "from sklearn.metrics import precision_score\n",
        "precision = precision_score(y_true, y_pred,average='macro')\n",
        "from sklearn.metrics import recall_score\n",
        "recall = recall_score(y_true, y_pred,average='macro')\n",
        "print(precision,recall)"
      ],
      "metadata": {
        "colab": {
          "base_uri": "https://localhost:8080/"
        },
        "id": "8NijS9SmF1Gk",
        "outputId": "ace49b4a-82dd-4ca4-bec0-bfce8d64ca71"
      },
      "execution_count": null,
      "outputs": [
        {
          "output_type": "stream",
          "name": "stdout",
          "text": [
            "0.7261508030052449 0.720888888888889\n"
          ]
        }
      ]
    },
    {
      "cell_type": "code",
      "source": [
        "from sklearn.metrics import precision_recall_fscore_support\n",
        "pr = precision_recall_fscore_support(y_true, y_pred,average='macro')\n",
        "print(pr)"
      ],
      "metadata": {
        "colab": {
          "base_uri": "https://localhost:8080/"
        },
        "id": "CDfHDr5xH_qw",
        "outputId": "cc3c5419-3db8-4cc5-8155-c8879032d748"
      },
      "execution_count": null,
      "outputs": [
        {
          "output_type": "stream",
          "name": "stdout",
          "text": [
            "(0.7261508030052449, 0.720888888888889, 0.7183617943047498, None)\n"
          ]
        }
      ]
    },
    {
      "cell_type": "markdown",
      "source": [
        "# LinearSvm - ML\n",
        "\n"
      ],
      "metadata": {
        "id": "ECshaTgwviKU"
      }
    },
    {
      "cell_type": "code",
      "source": [
        "from sklearn.feature_extraction.text import TfidfVectorizer,CountVectorizer\n",
        "from sklearn.svm import LinearSVC\n",
        "from sklearn.preprocessing import StandardScaler\n",
        "from sklearn.pipeline import make_pipeline\n",
        "\n",
        "model = make_pipeline(TfidfVectorizer(), LinearSVC())\n",
        "\n",
        "model.fit(df_train.tuned_tweet, df_train.label)\n",
        "labels = model.predict(df_test.tuned_tweet)"
      ],
      "metadata": {
        "id": "13mrG2XjFZJw"
      },
      "execution_count": null,
      "outputs": []
    },
    {
      "cell_type": "code",
      "source": [
        "from sklearn.metrics import confusion_matrix\n",
        "mat = confusion_matrix(df_test.label, labels)\n",
        "sns.heatmap(mat.T, square=True, annot=True, fmt='d', cbar=False,\n",
        "            xticklabels=[-1,0,1], yticklabels=[-1,0,1])\n",
        "plt.xlabel('true label')\n",
        "plt.ylabel('predicted label')"
      ],
      "metadata": {
        "colab": {
          "base_uri": "https://localhost:8080/",
          "height": 523
        },
        "id": "Q2Ls50n6FmGt",
        "outputId": "39e1a5d2-af90-4f2c-ce39-96f5ef23eee6"
      },
      "execution_count": null,
      "outputs": [
        {
          "output_type": "execute_result",
          "data": {
            "text/plain": [
              "Text(198.86, 0.5, 'predicted label')"
            ]
          },
          "metadata": {},
          "execution_count": 11
        },
        {
          "output_type": "display_data",
          "data": {
            "text/plain": [
              "<Figure size 864x576 with 1 Axes>"
            ],
            "image/png": "[encoded data removed]"
          },
          "metadata": {
            "image/png": {
              "width": 489,
              "height": 489
            }
          }
        }
      ]
    },
    {
      "cell_type": "code",
      "source": [
        "from sklearn.metrics import accuracy_score\n",
        "accuracy_score(df_test.label, labels)"
      ],
      "metadata": {
        "colab": {
          "base_uri": "https://localhost:8080/"
        },
        "id": "VDdv3ol1FnuY",
        "outputId": "366c21e4-e73e-4bc8-a434-198bf8e11ef6"
      },
      "execution_count": null,
      "outputs": [
        {
          "output_type": "execute_result",
          "data": {
            "text/plain": [
              "0.7182222222222222"
            ]
          },
          "metadata": {},
          "execution_count": 12
        }
      ]
    },
    {
      "cell_type": "code",
      "source": [
        "y_true = df_test.label\n",
        "y_pred = labels\n",
        "from sklearn.metrics import precision_score\n",
        "precision = precision_score(y_true, y_pred,average='macro')\n",
        "from sklearn.metrics import recall_score\n",
        "recall = recall_score(y_true, y_pred,average='macro')\n",
        "print(precision,recall)"
      ],
      "metadata": {
        "colab": {
          "base_uri": "https://localhost:8080/"
        },
        "id": "yHs_0moRIm00",
        "outputId": "77ba3eb0-1fee-4931-e50a-4e1dfa604988"
      },
      "execution_count": null,
      "outputs": [
        {
          "output_type": "stream",
          "name": "stdout",
          "text": [
            "0.7188489265838488 0.7182222222222222\n"
          ]
        }
      ]
    },
    {
      "cell_type": "code",
      "source": [
        "from sklearn.metrics import precision_recall_fscore_support\n",
        "pr = precision_recall_fscore_support(y_true, y_pred,average='macro')\n",
        "print(pr)"
      ],
      "metadata": {
        "colab": {
          "base_uri": "https://localhost:8080/"
        },
        "id": "fODOgXvjIq8V",
        "outputId": "2fb8df48-381c-43e6-9462-bf5451ed3bf0"
      },
      "execution_count": null,
      "outputs": [
        {
          "output_type": "stream",
          "name": "stdout",
          "text": [
            "(0.7188489265838488, 0.7182222222222222, 0.7180498684465181, None)\n"
          ]
        }
      ]
    },
    {
      "cell_type": "markdown",
      "source": [
        "# RBFSvm - ML\n",
        "\n"
      ],
      "metadata": {
        "id": "JfarLA7ftxOF"
      }
    },
    {
      "cell_type": "code",
      "source": [
        "from sklearn.feature_extraction.text import TfidfVectorizer,CountVectorizer\n",
        "from sklearn.svm import SVC\n",
        "from sklearn.preprocessing import StandardScaler\n",
        "from sklearn.pipeline import make_pipeline\n",
        "\n",
        "model = make_pipeline(TfidfVectorizer(), SVC(kernel='rbf', random_state=1, gamma=0.1, C=5))\n",
        "\n",
        "model.fit(df_train.tuned_tweet, df_train.label)\n",
        "labels = model.predict(df_test.tuned_tweet)"
      ],
      "metadata": {
        "id": "WqzQKJZ3txOM"
      },
      "execution_count": null,
      "outputs": []
    },
    {
      "cell_type": "code",
      "source": [
        "from sklearn.metrics import confusion_matrix\n",
        "mat = confusion_matrix(df_test.label, labels)\n",
        "sns.heatmap(mat.T, square=True, annot=True, fmt='d', cbar=False,\n",
        "            xticklabels=[-1,0,1], yticklabels=[-1,0,1])\n",
        "plt.xlabel('true label')\n",
        "plt.ylabel('predicted label')"
      ],
      "metadata": {
        "colab": {
          "base_uri": "https://localhost:8080/",
          "height": 523
        },
        "outputId": "d19ce15c-bda0-414a-d459-e90dbe235edb",
        "id": "4WE-qZFOtxON"
      },
      "execution_count": null,
      "outputs": [
        {
          "output_type": "execute_result",
          "data": {
            "text/plain": [
              "Text(198.86, 0.5, 'predicted label')"
            ]
          },
          "metadata": {},
          "execution_count": 33
        },
        {
          "output_type": "display_data",
          "data": {
            "text/plain": [
              "<Figure size 864x576 with 1 Axes>"
            ],
            "image/png": "[encoded data removed]"
          },
          "metadata": {
            "image/png": {
              "width": 489,
              "height": 489
            }
          }
        }
      ]
    },
    {
      "cell_type": "code",
      "source": [
        "from sklearn.metrics import accuracy_score\n",
        "accuracy_score(df_test.label, labels)"
      ],
      "metadata": {
        "colab": {
          "base_uri": "https://localhost:8080/"
        },
        "outputId": "22b4641e-7deb-42e9-9c03-49b7cd9d5d3a",
        "id": "itG6kuZGtxON"
      },
      "execution_count": null,
      "outputs": [
        {
          "output_type": "execute_result",
          "data": {
            "text/plain": [
              "0.728"
            ]
          },
          "metadata": {},
          "execution_count": 34
        }
      ]
    },
    {
      "cell_type": "code",
      "source": [
        "y_true = df_test.label\n",
        "y_pred = labels\n",
        "from sklearn.metrics import precision_score\n",
        "precision = precision_score(y_true, y_pred,average='macro')\n",
        "from sklearn.metrics import recall_score\n",
        "recall = recall_score(y_true, y_pred,average='macro')\n",
        "print(precision,recall)"
      ],
      "metadata": {
        "colab": {
          "base_uri": "https://localhost:8080/"
        },
        "outputId": "343c4acd-df70-4b42-b782-ff90934fcfd4",
        "id": "6x472QijtxON"
      },
      "execution_count": null,
      "outputs": [
        {
          "output_type": "stream",
          "name": "stdout",
          "text": [
            "0.7292481693162299 0.7280000000000001\n"
          ]
        }
      ]
    },
    {
      "cell_type": "code",
      "source": [
        "from sklearn.metrics import precision_recall_fscore_support\n",
        "pr = precision_recall_fscore_support(y_true, y_pred,average='macro')\n",
        "print(pr)"
      ],
      "metadata": {
        "colab": {
          "base_uri": "https://localhost:8080/"
        },
        "outputId": "fd4df178-b1c9-430b-a7d9-ff04f2637edb",
        "id": "h6ZoPQcLtxON"
      },
      "execution_count": null,
      "outputs": [
        {
          "output_type": "stream",
          "name": "stdout",
          "text": [
            "(0.7292481693162299, 0.7280000000000001, 0.7277935390862743, None)\n"
          ]
        }
      ]
    },
    {
      "cell_type": "markdown",
      "source": [
        "# Random Forest -ML"
      ],
      "metadata": {
        "id": "v1ezLMTrJmXM"
      }
    },
    {
      "cell_type": "code",
      "source": [
        "from sklearn.feature_extraction.text import TfidfVectorizer\n",
        "from sklearn.ensemble import RandomForestClassifier\n",
        "from sklearn.pipeline import make_pipeline\n",
        "\n",
        "model = make_pipeline(TfidfVectorizer(), RandomForestClassifier(max_depth=3, random_state=42))\n",
        "\n",
        "\n",
        "model.fit(df_train.tuned_tweet, df_train.label)\n",
        "labels = model.predict(df_test.tuned_tweet)"
      ],
      "metadata": {
        "id": "wCN63KFqJXvL"
      },
      "execution_count": null,
      "outputs": []
    },
    {
      "cell_type": "code",
      "source": [
        "from sklearn.metrics import confusion_matrix\n",
        "mat = confusion_matrix(df_test.label, labels)\n",
        "sns.heatmap(mat.T, square=True, annot=True, fmt='d', cbar=False,\n",
        "            xticklabels=[-1,0,1], yticklabels=[-1,0,1])\n",
        "plt.xlabel('true label')\n",
        "plt.ylabel('predicted label')"
      ],
      "metadata": {
        "colab": {
          "base_uri": "https://localhost:8080/",
          "height": 523
        },
        "id": "eRXP_FSrKWii",
        "outputId": "00aa7ab6-8204-4713-bc8b-4ac50de04ee8"
      },
      "execution_count": null,
      "outputs": [
        {
          "output_type": "execute_result",
          "data": {
            "text/plain": [
              "Text(198.86, 0.5, 'predicted label')"
            ]
          },
          "metadata": {},
          "execution_count": 49
        },
        {
          "output_type": "display_data",
          "data": {
            "text/plain": [
              "<Figure size 864x576 with 1 Axes>"
            ],
            "image/png": "[encoded data removed]"
          },
          "metadata": {
            "image/png": {
              "width": 489,
              "height": 489
            }
          }
        }
      ]
    },
    {
      "cell_type": "code",
      "source": [
        "from sklearn.metrics import accuracy_score\n",
        "accuracy_score(df_test.label, labels)"
      ],
      "metadata": {
        "colab": {
          "base_uri": "https://localhost:8080/"
        },
        "id": "s2kL03vAKZOf",
        "outputId": "5f84cd1b-03c4-409c-e910-b49e69d68f6a"
      },
      "execution_count": null,
      "outputs": [
        {
          "output_type": "execute_result",
          "data": {
            "text/plain": [
              "0.6537777777777778"
            ]
          },
          "metadata": {},
          "execution_count": 50
        }
      ]
    },
    {
      "cell_type": "code",
      "source": [
        "y_true = df_test.label\n",
        "y_pred = labels\n",
        "from sklearn.metrics import precision_score\n",
        "precision = precision_score(y_true, y_pred,average='macro')\n",
        "from sklearn.metrics import recall_score\n",
        "recall = recall_score(y_true, y_pred,average='macro')\n",
        "print(precision,recall)"
      ],
      "metadata": {
        "colab": {
          "base_uri": "https://localhost:8080/"
        },
        "id": "R3QtwvzQKbxO",
        "outputId": "a9b7606f-877d-4089-8e8e-133b43d00bb3"
      },
      "execution_count": null,
      "outputs": [
        {
          "output_type": "stream",
          "name": "stdout",
          "text": [
            "0.6672775526790126 0.6537777777777779\n"
          ]
        }
      ]
    },
    {
      "cell_type": "code",
      "source": [
        "from sklearn.metrics import precision_recall_fscore_support\n",
        "pr = precision_recall_fscore_support(y_true, y_pred,average='macro')\n",
        "print(pr)"
      ],
      "metadata": {
        "colab": {
          "base_uri": "https://localhost:8080/"
        },
        "id": "N-LLwSL3KjvP",
        "outputId": "6c108d72-2dcf-4107-fa08-95e47a07e159"
      },
      "execution_count": null,
      "outputs": [
        {
          "output_type": "stream",
          "name": "stdout",
          "text": [
            "(0.6672775526790126, 0.6537777777777779, 0.6509847772786589, None)\n"
          ]
        }
      ]
    },
    {
      "cell_type": "code",
      "source": [
        ""
      ],
      "metadata": {
        "id": "ptT4xjUnwMuV"
      },
      "execution_count": null,
      "outputs": []
    }
  ]
}